{
  "nbformat": 4,
  "nbformat_minor": 0,
  "metadata": {
    "colab": {
      "provenance": [],
      "include_colab_link": true
    },
    "kernelspec": {
      "name": "python3",
      "display_name": "Python 3"
    },
    "language_info": {
      "name": "python"
    }
  },
  "cells": [
    {
      "cell_type": "markdown",
      "metadata": {
        "id": "view-in-github",
        "colab_type": "text"
      },
      "source": [
        "<a href=\"https://colab.research.google.com/github/caroSF1/SyntaxError_Evidencia4/blob/main/Proceso_de_limpieza_de_los_datos.ipynb\" target=\"_parent\"><img src=\"https://colab.research.google.com/assets/colab-badge.svg\" alt=\"Open In Colab\"/></a>"
      ]
    },
    {
      "cell_type": "markdown",
      "source": [
        "#**Proceso de Recolección y limpiezade los datos**"
      ],
      "metadata": {
        "id": "xzqlyp17iF4V"
      }
    },
    {
      "cell_type": "code",
      "source": [
        "import pandas as pd\n",
        "from pandas import Series, DataFrame"
      ],
      "metadata": {
        "id": "JhUrKdLji86R"
      },
      "execution_count": 1,
      "outputs": []
    },
    {
      "cell_type": "code",
      "source": [
        "precios = pd.read_excel('Detalle precios y productos fabricados 2022.xlsx')\n",
        "precios.head()"
      ],
      "metadata": {
        "id": "TXU8wBXQjgXh"
      },
      "execution_count": null,
      "outputs": []
    },
    {
      "cell_type": "code",
      "source": [
        "facturacion = pd.read_excel('FACURACION, DEVOLUCIONES, NOTAS DE CREDITO, CLIENTES.xlsx', sheet_name=\"FACTURACION\")\n",
        "facturacion.head()"
      ],
      "metadata": {
        "id": "0paLi5rwqgKZ"
      },
      "execution_count": null,
      "outputs": []
    },
    {
      "cell_type": "code",
      "source": [
        "devoluciones= pd.read_excel('FACURACION, DEVOLUCIONES, NOTAS DE CREDITO, CLIENTES.xlsx', sheet_name=\"DEVOLUCIONES\")\n",
        "devoluciones.head()"
      ],
      "metadata": {
        "id": "ZtPZMhLFqkfz"
      },
      "execution_count": null,
      "outputs": []
    },
    {
      "cell_type": "code",
      "source": [
        "notas_credito= pd.read_excel('FACURACION, DEVOLUCIONES, NOTAS DE CREDITO, CLIENTES.xlsx', sheet_name=\"NOTAS DE CREDITO\")\n",
        "notas_credito.head()"
      ],
      "metadata": {
        "id": "5ZAgYy1hqnCQ"
      },
      "execution_count": null,
      "outputs": []
    },
    {
      "cell_type": "code",
      "source": [
        "clientes= pd.read_excel('FACURACION, DEVOLUCIONES, NOTAS DE CREDITO, CLIENTES.xlsx', sheet_name=\"CLIENTES\")\n",
        "clientes.head()"
      ],
      "metadata": {
        "id": "_eqcEyFWqr53"
      },
      "execution_count": null,
      "outputs": []
    },
    {
      "cell_type": "code",
      "source": [
        "gastos_20 = pd.read_excel('Gastos y costos 20-23 (abril).xlsx', sheet_name=\"2020\")\n",
        "gastos_20.head()"
      ],
      "metadata": {
        "id": "ptV6wDn9fUQx"
      },
      "execution_count": null,
      "outputs": []
    },
    {
      "cell_type": "code",
      "source": [
        "gastos_21 = pd.read_excel('Gastos y costos 20-23 (abril).xlsx', sheet_name=\"2021\")\n",
        "gastos_21.head()"
      ],
      "metadata": {
        "id": "UxsPSg6tfnym"
      },
      "execution_count": null,
      "outputs": []
    },
    {
      "cell_type": "code",
      "source": [
        "gastos_22 = pd.read_excel('Gastos y costos 20-23 (abril).xlsx', sheet_name=\"2022\")\n",
        "gastos_22.head()"
      ],
      "metadata": {
        "id": "bGuMnzrOfro8"
      },
      "execution_count": null,
      "outputs": []
    },
    {
      "cell_type": "code",
      "source": [
        "gastos_23 = pd.read_excel('Gastos y costos 20-23 (abril).xlsx', sheet_name=\"2023\")\n",
        "gastos_23.head()"
      ],
      "metadata": {
        "id": "VqzFFp0Sftt3"
      },
      "execution_count": null,
      "outputs": []
    },
    {
      "cell_type": "code",
      "source": [
        "saldos = pd.read_excel('saldos.xlsx')\n",
        "saldos.head()"
      ],
      "metadata": {
        "id": "y37w3hdcosF2"
      },
      "execution_count": null,
      "outputs": []
    },
    {
      "cell_type": "code",
      "source": [
        "facturacion= facturacion.rename(columns = {'FECHAELAB':'FECHA_ELAB', 'FECHA_ENT':'FECHA_ENTREGA', 'CAN_TOT':'CANTD_TOT'})\n",
        "print('Facturación')\n",
        "print(facturacion.columns)\n",
        "print()\n",
        "print('Notas de crédito')\n",
        "notas_credito = notas_credito.rename(columns= {'FECHAELAB':'FECHA_ELAB', 'FECHA_ENT':'FECHA_ENTREGA', 'CAN_TOT':'CANTD_TOT'})\n",
        "print(notas_credito.columns)\n",
        "print()\n",
        "print('Devoluciones')\n",
        "devoluciones = devoluciones.rename(columns= {'FECHAELAB':'FECHA_ELAB', 'FECHA_ENT':'FECHA_ENTREGA', 'CAN_TOT':'CANTD_TOT'})\n",
        "print(devoluciones.columns)\n",
        "print()\n",
        "print('Gastos y Costos')\n",
        "gastos_22 = gastos_22.rename(columns= {'Fecha':'FECHA', 'Folio':'FOLIO','Proveedor':'PROOVEDOR', 'Descripción':'DESCRIPCION','Status':'STATUS', 'Tipo':'TIPO', 'Poliza':'POLIZA'})\n",
        "print('2022: ', gastos_22.columns)\n",
        "gastos_23 = gastos_23.rename(columns= {'Fecha':'FECHA','Folio':'FOLIO', 'Proveedor':'PROOVEDOR', 'Descripción':'DESCRIPCION','Status':'STATUS', 'Tipo':'TIPO', 'Poliza':'POLIZA'})\n",
        "print('2023: ', gastos_23.columns)\n",
        "print()\n",
        "print('Antigüedad de Saldos')\n",
        "saldos = saldos.rename(columns= {'No. CLIENTE':'CVE_CLPV'})\n",
        "print(saldos.columns)"
      ],
      "metadata": {
        "id": "lh8B5XZz0kkU"
      },
      "execution_count": null,
      "outputs": []
    },
    {
      "cell_type": "code",
      "source": [
        "gastos_20 = gastos_20.drop(['UUID','TIPO','POLIZA','Columna1'], axis=1)\n",
        "gastos_21 = gastos_21.drop(['UUID','TIPO','POLIZA'], axis=1)\n",
        "gastos_22 = gastos_22.drop(['UUID','TIPO','POLIZA','Otros'], axis=1)\n",
        "gastos_23 = gastos_23.drop(['UUID','TIPO','POLIZA','Otros'], axis=1)"
      ],
      "metadata": {
        "id": "8tbiBfVpCbls"
      },
      "execution_count": 14,
      "outputs": []
    },
    {
      "cell_type": "code",
      "source": [
        "precios = precios.drop(['NOMBRE_VENDEDOR','DESCR','COSTO_UNITARIO','MARGEN_UNITARIO_CALCULADO'],axis=1)"
      ],
      "metadata": {
        "id": "zLO6dJkXUhzY"
      },
      "execution_count": 15,
      "outputs": []
    },
    {
      "cell_type": "code",
      "source": [
        "devoluciones = devoluciones.drop(['TIP_DOC','CVE_VEND','FECHA_ENTREGA','DES_FIN','FECHA_ELAB','SERIE'],axis=1)"
      ],
      "metadata": {
        "id": "7zYFFEtyU4mf"
      },
      "execution_count": 16,
      "outputs": []
    },
    {
      "cell_type": "code",
      "source": [
        "notas_credito = notas_credito.drop(['TIP_DOC','CVE_VEND','FECHA_ENTREGA','FECHA_ELAB','SERIE'],axis=1)"
      ],
      "metadata": {
        "id": "eIp5zobFVL4I"
      },
      "execution_count": 17,
      "outputs": []
    },
    {
      "cell_type": "code",
      "source": [
        "facturacion = facturacion.drop(['CVE_VEND','FECHA_ENTREGA','FECHA_ELAB','DES_FIN'],axis=1)"
      ],
      "metadata": {
        "id": "wv1blTaZVexI"
      },
      "execution_count": 18,
      "outputs": []
    },
    {
      "cell_type": "code",
      "source": [
        "facturacion=facturacion.fillna({'FECHA_CANCELA':'--'})\n",
        "facturacion['FECHA_CANCELA'].isnull().sum()"
      ],
      "metadata": {
        "id": "CxNTP3qzidzy"
      },
      "execution_count": null,
      "outputs": []
    },
    {
      "cell_type": "code",
      "source": [
        "devoluciones=devoluciones.fillna({'DOC_ANT':'--', 'CVE_PEDI':'--', 'FECHA_CANCELA':'--'})\n",
        "devoluciones[['FECHA_CANCELA', 'DOC_ANT', 'CVE_PEDI']].isnull().sum()"
      ],
      "metadata": {
        "id": "atkmhy6LjCDh"
      },
      "execution_count": null,
      "outputs": []
    },
    {
      "cell_type": "code",
      "source": [
        "clientes=clientes.fillna({'RFC':'--','NOMBRE':'--'})\n",
        "clientes[['RFC','NOMBRE']].isnull().sum()"
      ],
      "metadata": {
        "id": "MD6ITSY4j6tE"
      },
      "execution_count": null,
      "outputs": []
    },
    {
      "cell_type": "code",
      "source": [
        "notas_credito=notas_credito.fillna({'CVE_PEDI':'--','FECHA_CANCELA':'--'})\n",
        "notas_credito[['CVE_PEDI','FECHA_CANCELA']].isnull().sum()"
      ],
      "metadata": {
        "id": "pG-15N06kg_L"
      },
      "execution_count": null,
      "outputs": []
    },
    {
      "cell_type": "code",
      "source": [
        "gastos_20=gastos_20.fillna({'FOLIO':'--','GASTO':0, 'TC':'--', 'IMPORTE':0, 'IVA':0 })\n",
        "gastos_20[['FOLIO','GASTO','TC','IMPORTE','IVA']].isnull().sum()"
      ],
      "metadata": {
        "id": "Q0sKgHSrkyyY"
      },
      "execution_count": null,
      "outputs": []
    },
    {
      "cell_type": "code",
      "source": [
        "gastos_21=gastos_21.fillna({'FOLIO':'--','MP':'--'})\n",
        "gastos_21[['FOLIO','MP']].isnull().sum()"
      ],
      "metadata": {
        "id": "22Fwf_zSl8zk"
      },
      "execution_count": null,
      "outputs": []
    },
    {
      "cell_type": "code",
      "source": [
        "gastos_22=gastos_22.fillna({'FOLIO':'--','MP':'--', 'TC':'--'})\n",
        "gastos_22[['FOLIO','MP','TC']].isnull().sum()"
      ],
      "metadata": {
        "id": "Sw3UY51Tl81m"
      },
      "execution_count": null,
      "outputs": []
    },
    {
      "cell_type": "code",
      "source": [
        "gastos_23=gastos_23.fillna({'FOLIO':'--', 'TIPO GASTO':'OTROS','MP':'--', 'FP':0})\n",
        "gastos_23[['FOLIO','TIPO GASTO','MP','FP']].isnull().sum()"
      ],
      "metadata": {
        "id": "TJasIZpomWLb"
      },
      "execution_count": null,
      "outputs": []
    },
    {
      "cell_type": "code",
      "source": [
        "devoluciones.duplicated()\n",
        "Duplicadasd=devoluciones.duplicated()\n",
        "Duplicadasd\n",
        "print(\"\\nNúmero de filas duplicadas:\\n\")\n",
        "Duplicadasd[Duplicadasd==True].count()"
      ],
      "metadata": {
        "id": "d37gvZ2rMtKa"
      },
      "execution_count": null,
      "outputs": []
    },
    {
      "cell_type": "code",
      "source": [
        "facturacion.duplicated()\n",
        "Duplicadasf=facturacion.duplicated()\n",
        "Duplicadasf\n",
        "print(\"\\nNúmero de filas duplicadas:\\n\")\n",
        "Duplicadasf[Duplicadasf==True].count()"
      ],
      "metadata": {
        "id": "rGOMdDHVNKkI"
      },
      "execution_count": null,
      "outputs": []
    },
    {
      "cell_type": "code",
      "source": [
        "notas_credito.duplicated()\n",
        "Duplicadasn=notas_credito.duplicated()\n",
        "Duplicadasn\n",
        "print(\"\\nNúmero de filas duplicadas:\\n\")\n",
        "Duplicadasn[Duplicadasn==True].count()"
      ],
      "metadata": {
        "id": "a_weIO54NWzw"
      },
      "execution_count": null,
      "outputs": []
    },
    {
      "cell_type": "code",
      "source": [
        "precios.duplicated()\n",
        "Duplicadasp=precios.duplicated()\n",
        "Duplicadasp\n",
        "print(\"\\nNúmero de filas duplicadas:\\n\")\n",
        "Duplicadasp[Duplicadasp==True].count()"
      ],
      "metadata": {
        "id": "1GJmc3ItOG2b"
      },
      "execution_count": null,
      "outputs": []
    },
    {
      "cell_type": "code",
      "source": [
        "saldos.duplicated()\n",
        "Duplicadass=saldos.duplicated()\n",
        "Duplicadass\n",
        "print(\"\\nNúmero de filas duplicadas:\\n\")\n",
        "Duplicadass[Duplicadass==True].count()"
      ],
      "metadata": {
        "id": "VSs5WAFvOHYm"
      },
      "execution_count": null,
      "outputs": []
    },
    {
      "cell_type": "code",
      "source": [
        "gastos_20.duplicated()\n",
        "Duplicadasg20=gastos_20.duplicated()\n",
        "gastos_20 = gastos_20.drop_duplicates()\n",
        "Duplicadasg20=gastos_20.duplicated()"
      ],
      "metadata": {
        "id": "WQMz4BVlOHPc"
      },
      "execution_count": 32,
      "outputs": []
    },
    {
      "cell_type": "code",
      "source": [
        "print(\"\\nNúmero de filas duplicadas:\\n\")\n",
        "Duplicadasg20[Duplicadasg20==True].count()"
      ],
      "metadata": {
        "id": "g7adA5Vhs8qN"
      },
      "execution_count": null,
      "outputs": []
    },
    {
      "cell_type": "code",
      "source": [
        "gastos_21.duplicated()\n",
        "Duplicadasg21=gastos_21.duplicated()\n",
        "gastos_21 = gastos_21.drop_duplicates()\n",
        "Duplicadasg21=gastos_21.duplicated()"
      ],
      "metadata": {
        "id": "oLCEikvZpsYM"
      },
      "execution_count": 34,
      "outputs": []
    },
    {
      "cell_type": "code",
      "source": [
        "print(\"\\nNúmero de filas duplicadas:\\n\")\n",
        "Duplicadasg21[Duplicadasg21==True].count()"
      ],
      "metadata": {
        "id": "w-rdnFW8tOAa"
      },
      "execution_count": null,
      "outputs": []
    },
    {
      "cell_type": "code",
      "source": [
        "gastos_22.duplicated()\n",
        "Duplicadasg22=gastos_22.duplicated()\n",
        "gastos_22 = gastos_22.drop_duplicates()\n",
        "Duplicadasg22=gastos_22.duplicated()"
      ],
      "metadata": {
        "id": "aQ2qV1XyO6CU"
      },
      "execution_count": 36,
      "outputs": []
    },
    {
      "cell_type": "code",
      "source": [
        "print(\"\\nNúmero de filas duplicadas:\\n\")\n",
        "Duplicadasg22[Duplicadasg22==True].count()"
      ],
      "metadata": {
        "id": "_NE67vRVtHuL"
      },
      "execution_count": null,
      "outputs": []
    },
    {
      "cell_type": "code",
      "source": [
        "gastos_23.duplicated()\n",
        "Duplicadasg23=gastos_23.duplicated()\n",
        "gastos_23= gastos_23.drop_duplicates()\n",
        "Duplicadasg23=gastos_23.duplicated()"
      ],
      "metadata": {
        "id": "dO_eh4D1O_1b"
      },
      "execution_count": 38,
      "outputs": []
    },
    {
      "cell_type": "code",
      "execution_count": 39,
      "metadata": {
        "id": "YMpnK9nbSvdE"
      },
      "outputs": [],
      "source": [
        "import pandas as pd\n",
        "from pandas import Series, DataFrame\n",
        "import seaborn as sns\n",
        "import numpy as np\n",
        "from datetime import date, time, datetime, timedelta\n",
        "class display(object):\n",
        "    \"\"\"Display HTML representation of multiple objects\"\"\"\n",
        "    template = \"\"\"<div style=\"float: left; padding: 10px;\">\n",
        "    <p style='font-family:\"Courier New\", Courier, monospace'>{0}</p>{1}\n",
        "    </div>\"\"\"\n",
        "    def __init__(self, *args):\n",
        "        self.args = args\n",
        "\n",
        "    def _repr_html_(self):\n",
        "        return '\\n'.join(self.template.format(a, eval(a)._repr_html_())\n",
        "                         for a in self.args)\n",
        "\n",
        "    def __repr__(self):\n",
        "        return '\\n\\n'.join(a + '\\n' + repr(eval(a))\n",
        "                           for a in self.args)\n"
      ]
    },
    {
      "cell_type": "code",
      "source": [
        "facturas_precios= pd.merge(facturacion, precios,  on = ['CVE_DOC','FECHA_DOC'],  how= 'right')\n",
        "facturas_precios.head()"
      ],
      "metadata": {
        "id": "6H3kSFfRaixK"
      },
      "execution_count": null,
      "outputs": []
    },
    {
      "cell_type": "code",
      "source": [
        "facturas_saldos= pd.merge(saldos, facturacion, left_on = ['FACTURA','FECHA_FACTURA'], right_on=['CVE_DOC', 'FECHA_DOC'], how= 'left')\n",
        "facturas_saldos.fillna('- -')"
      ],
      "metadata": {
        "id": "-kC0qMuSaq_E"
      },
      "execution_count": null,
      "outputs": []
    },
    {
      "cell_type": "code",
      "source": [
        "facturas_devoluciones = pd.merge(devoluciones, facturacion, left_on = ['DOC_ANT'], right_on=['CVE_DOC'], how= 'left')\n",
        "facturas_devoluciones =facturas_devoluciones.fillna('- -')"
      ],
      "metadata": {
        "id": "SE23FF57QvzA"
      },
      "execution_count": 42,
      "outputs": []
    },
    {
      "cell_type": "code",
      "source": [
        "tipo_gastos20 = pd.DataFrame()\n",
        "tipo_gastos20['IMPORTE TOTAL'] = gastos_20.groupby(['STATUS','FECHA','TIPO GASTO'])['IMPORTE'].sum()\n",
        "tipo_gastos20"
      ],
      "metadata": {
        "id": "TcYvYkabTa8_"
      },
      "execution_count": null,
      "outputs": []
    },
    {
      "cell_type": "code",
      "source": [
        "tipo_gastos21 = pd.DataFrame()\n",
        "tipo_gastos21['IMPORTE TOTAL'] = gastos_21.groupby(['STATUS','FECHA','TIPO GASTO'])['IMPORTE'].sum()\n",
        "tipo_gastos21"
      ],
      "metadata": {
        "id": "6xJMl_vOUwYK"
      },
      "execution_count": null,
      "outputs": []
    },
    {
      "cell_type": "code",
      "source": [
        "tipo_gastos22 = pd.DataFrame()\n",
        "tipo_gastos22['IMPORTE TOTAL'] = gastos_22.groupby(['STATUS','FECHA','TIPO GASTO'])['Importe'].sum()\n",
        "tipo_gastos22"
      ],
      "metadata": {
        "id": "NYkk2ULzU0h9"
      },
      "execution_count": null,
      "outputs": []
    },
    {
      "cell_type": "code",
      "source": [
        "tipo_gastos23 = pd.DataFrame()\n",
        "tipo_gastos23['IMPORTE TOTAL'] = gastos_23.groupby(['STATUS','FECHA','TIPO GASTO'])['Importe'].sum()\n",
        "tipo_gastos23"
      ],
      "metadata": {
        "id": "3dttUFcXVKmp"
      },
      "execution_count": null,
      "outputs": []
    },
    {
      "cell_type": "code",
      "source": [
        "facturacion['FEC_ELAB_MES']=facturacion['FECHA_DOC'].dt.month\n",
        "print(facturacion['FEC_ELAB_MES'].unique())\n",
        "print()\n",
        "facturacion.iloc[[4,900,7899,1223]]"
      ],
      "metadata": {
        "id": "ABR_6ncfjWgV"
      },
      "execution_count": null,
      "outputs": []
    },
    {
      "cell_type": "code",
      "source": [
        "facturas_v = pd.DataFrame()\n",
        "facturas_v[['VALOR TOTAL','DESCUENTO']] = facturacion.groupby(['FEC_ELAB_MES','STATUS'])[['CANTD_TOT', 'DES_TOT']].sum()\n",
        "facturas_v"
      ],
      "metadata": {
        "id": "wPQnFBzxZMo-"
      },
      "execution_count": null,
      "outputs": []
    },
    {
      "cell_type": "code",
      "source": [
        "devoluciones['FEC_ELAB_MES']=devoluciones['FECHA_DOC'].dt.month\n",
        "print(devoluciones['FEC_ELAB_MES'].unique())\n",
        "print()\n",
        "devoluciones.iloc[[4,28,12]]"
      ],
      "metadata": {
        "id": "Kd9kgBSUnjwY"
      },
      "execution_count": null,
      "outputs": []
    },
    {
      "cell_type": "code",
      "source": [
        "dev_v = pd.DataFrame()\n",
        "dev_v['VALOR TOTAL'] = devoluciones.groupby(['FEC_ELAB_MES','STATUS'])['CANTD_TOT'].sum()\n",
        "dev_v"
      ],
      "metadata": {
        "id": "XrxQvhGanMTr"
      },
      "execution_count": null,
      "outputs": []
    },
    {
      "cell_type": "code",
      "source": [
        "notas_credito['FEC_ELAB_MES']=notas_credito['FECHA_DOC'].dt.month\n",
        "print(notas_credito['FEC_ELAB_MES'].unique())\n",
        "print()\n",
        "notas_credito.iloc[[4,28,122]]"
      ],
      "metadata": {
        "id": "_xS8QaHLoMqD"
      },
      "execution_count": null,
      "outputs": []
    },
    {
      "cell_type": "code",
      "source": [
        "notas_cv = pd.DataFrame()\n",
        "notas_cv['VALOR TOTAL'] = notas_credito.groupby(['FEC_ELAB_MES','STATUS'])['CANTD_TOT'].sum()\n",
        "notas_cv"
      ],
      "metadata": {
        "id": "tCDciCWRoXe2"
      },
      "execution_count": null,
      "outputs": []
    },
    {
      "cell_type": "code",
      "source": [
        "actual= datetime.now()\n",
        "actual"
      ],
      "metadata": {
        "id": "TYov4UF1pDqx"
      },
      "execution_count": null,
      "outputs": []
    },
    {
      "cell_type": "code",
      "source": [
        "saldos['FECHA_ACT']=actual\n",
        "saldos['FECHA_ACT']"
      ],
      "metadata": {
        "id": "qgwlPRW3p26v"
      },
      "execution_count": null,
      "outputs": []
    },
    {
      "cell_type": "code",
      "source": [
        "saldos['TIPO'] = np.where(saldos['FECHA_VENCIMIENTO'] >= saldos['FECHA_ACT'], 'CLIENTES CRÉDITO', 'CARTERA VENCIDA')"
      ],
      "metadata": {
        "id": "h1Stpan9qB5F"
      },
      "execution_count": 55,
      "outputs": []
    },
    {
      "cell_type": "code",
      "source": [
        "saldos['dias'] = saldos['FECHA_VENCIMIENTO'] - saldos['FECHA_FACTURA']"
      ],
      "metadata": {
        "id": "AseAGUc4tV4U"
      },
      "execution_count": 56,
      "outputs": []
    },
    {
      "cell_type": "code",
      "source": [
        "saldos['TIPO_DIAS'] = np.where(saldos['dias'] <= '30 days' , '1-30', '31-60 o 30<')"
      ],
      "metadata": {
        "id": "UWr6NFCjuQmX"
      },
      "execution_count": 57,
      "outputs": []
    },
    {
      "cell_type": "code",
      "source": [
        "cobranza = pd.DataFrame()\n",
        "cobranza['MONTO ADEUDADO'] = saldos.groupby(['TIPO','TIPO_DIAS'])['MONTO ADEUDADO'].sum()\n",
        "cobranza"
      ],
      "metadata": {
        "id": "GP7nbJJQt2P-"
      },
      "execution_count": null,
      "outputs": []
    },
    {
      "cell_type": "code",
      "source": [
        "saldos.to_excel('saldos_clean.xlsx')\n",
        "facturacion.to_excel('facturacion_clean.xlsx')\n",
        "devoluciones.to_excel('devoluciones_clean.xlsx')\n",
        "notas_credito.to_excel('notas_credito_clean.xlsx')\n",
        "clientes.to_excel('clientes_clean.xlsx')\n",
        "precios.to_excel('precios_productos_clean.xlsx')\n",
        "gastos_20.to_excel('gastos_c2020_clean.xlsx')\n",
        "gastos_21.to_excel('gastos_c2021_clean.xlsx')\n",
        "gastos_22.to_excel('gastos_c2022_clean.xlsx')\n",
        "gastos_23.to_excel('gastos_c2023_clean.xlsx')\n",
        "tipo_gastos20.to_excel('prueba20.xlsx')\n",
        "tipo_gastos21.to_excel('prueba21.xlsx')\n",
        "tipo_gastos22.to_excel('prueba22.xlsx')\n",
        "tipo_gastos23.to_excel('prueba23.xlsx')"
      ],
      "metadata": {
        "id": "RGGpo2vQx3cb"
      },
      "execution_count": 59,
      "outputs": []
    }
  ]
}